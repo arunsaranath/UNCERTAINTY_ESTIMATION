{
 "cells": [
  {
   "cell_type": "code",
   "execution_count": 1,
   "id": "bb06c1b7",
   "metadata": {},
   "outputs": [
    {
     "name": "stderr",
     "output_type": "stream",
     "text": [
      "usage: ipykernel_launcher.py [-h] [--model_loc MODEL_LOC]\n",
      "                             [--data_loc DATA_LOC] [--sim_loc SIM_LOC]\n",
      "                             [--n_redraws N_REDRAWS] [--n_rounds N_ROUNDS]\n",
      "                             [--threshold THRESHOLD] [--avg_est] [--no_save]\n",
      "                             [--no_load] [--verbose] [--silent] [--plot_loss]\n",
      "                             [--darktheme] [--animate] [--save_data]\n",
      "                             [--save_stats] [--LOO_CV] [--sat_bands]\n",
      "                             [--benchmark] [--product PRODUCT]\n",
      "                             [--sensor SENSOR] [--align ALIGN]\n",
      "                             [--model_lbl MODEL_LBL] [--seed SEED]\n",
      "                             [--subset SUBSET] [--use_noise] [--use_ratio]\n",
      "                             [--use_auc] [--use_tchlfix] [--use_boosting]\n",
      "                             [--no_bagging] [--use_sim] [--use_excl_Rrs]\n",
      "                             [--use_all_ratio] [--use_kbest [USE_KBEST]]\n",
      "                             [--n_iter N_ITER] [--n_mix N_MIX] [--batch BATCH]\n",
      "                             [--n_hidden N_HIDDEN] [--n_layers N_LAYERS]\n",
      "                             [--imputations IMPUTATIONS] [--lr LR] [--l2 L2]\n",
      "                             [--epsilon EPSILON]\n",
      "                             [--all_test | --sentinel_paper]\n",
      "                             [filename]\n",
      "ipykernel_launcher.py: error: unrecognized arguments: -f\n"
     ]
    },
    {
     "ename": "SystemExit",
     "evalue": "2",
     "output_type": "error",
     "traceback": [
      "An exception has occurred, use %tb to see the full traceback.\n",
      "\u001b[0;31mSystemExit\u001b[0m\u001b[0;31m:\u001b[0m 2\n"
     ]
    },
    {
     "name": "stderr",
     "output_type": "stream",
     "text": [
      "/Users/arunsaranathan/opt/anaconda3/envs/RIO/lib/python3.7/site-packages/IPython/core/interactiveshell.py:3560: UserWarning: To exit: use 'exit', 'quit', or Ctrl-D.\n",
      "  warn(\"To exit: use 'exit', 'quit', or Ctrl-D.\", stacklevel=1)\n"
     ]
    }
   ],
   "source": [
    "'Import base packages'\n",
    "import numpy as np\n",
    "import pandas as pd\n",
    "from pathlib import Path\n",
    "\n",
    "import sys\n",
    "sys.path.append(\"/Users/arunsaranathan/SSAI/Code/uncertainty_package_final\")\n",
    "sys.path.append(\"/Users/arunsaranathan/SSAI/Code/\")\n",
    "\n",
    "from utilities import get_data_fullInsitu"
   ]
  },
  {
   "cell_type": "code",
   "execution_count": null,
   "id": "7d2fd878",
   "metadata": {},
   "outputs": [],
   "source": []
  }
 ],
 "metadata": {
  "kernelspec": {
   "display_name": "Python [conda env:RIO] *",
   "language": "python",
   "name": "conda-env-RIO-py"
  },
  "language_info": {
   "codemirror_mode": {
    "name": "ipython",
    "version": 3
   },
   "file_extension": ".py",
   "mimetype": "text/x-python",
   "name": "python",
   "nbconvert_exporter": "python",
   "pygments_lexer": "ipython3",
   "version": "3.7.12"
  }
 },
 "nbformat": 4,
 "nbformat_minor": 5
}
